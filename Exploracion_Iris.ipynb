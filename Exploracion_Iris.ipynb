{
 "cells": [
  {
   "cell_type": "code",
   "execution_count": 23,
   "id": "d87d2189-f5e4-482b-9146-16f4ccac6ee9",
   "metadata": {},
   "outputs": [],
   "source": [
    "# Inicialización notebook para explorar dataset Iris"
   ]
  },
  {
   "cell_type": "code",
   "execution_count": 25,
   "id": "09e6e9d7-38b2-41d9-b4d3-d4eb7ba5cbbf",
   "metadata": {},
   "outputs": [],
   "source": [
    "# Librerias\n",
    "import pandas as pd"
   ]
  },
  {
   "cell_type": "markdown",
   "id": "1aaa2027-23dd-4f87-826e-81bb6dfafe0d",
   "metadata": {},
   "source": [
    "### Información inicial dataset Iris \r",
    "Este dataset contiene datos de  flores, incluyendo medidas de longitud y ancho de sépalos y pétalos categorizados por la clase de cada flor.\n",
    "\n",
    "Se muestra, dimensiones (150 filas y 5 columnas) y las primeras 5 filas con sus respectivos valores para cada variable.\r",
    "as co| 0.2         |lase de cada flor.   | 0.763161    |\r\n"
   ]
  },
  {
   "cell_type": "code",
   "execution_count": 28,
   "id": "a4d2966b-0963-4975-9643-5112d1bc1d4b",
   "metadata": {},
   "outputs": [
    {
     "name": "stdout",
     "output_type": "stream",
     "text": [
      "Tamaño del DataFrame: (150, 5)\n",
      "Primeras 5 filas del DataFrame:\n",
      "   sepal length  sepal width  petal length  petal width        class\n",
      "0           5.1          3.5           1.4          0.2  Iris-setosa\n",
      "1           4.9          3.0           1.4          0.2  Iris-setosa\n",
      "2           4.7          3.2           1.3          0.2  Iris-setosa\n",
      "3           4.6          3.1           1.5          0.2  Iris-setosa\n",
      "4           5.0          3.6           1.4          0.2  Iris-setosa\n"
     ]
    }
   ],
   "source": [
    "# URL del dataset Iris\n",
    "url = \"https://raw.githubusercontent.com/plotly/datasets/master/iris-data.csv\"\n",
    "\n",
    "# Leer el archivo CSV en un DataFrame\n",
    "df = pd.read_csv(url)\n",
    "\n",
    "# Mostrar el tamaño y las primeras 5 filas del DataFrame\n",
    "print(\"Tamaño del DataFrame:\", df.shape)\n",
    "print(\"Primeras 5 filas del DataFrame:\")\n",
    "print(df.head())\n"
   ]
  },
  {
   "cell_type": "markdown",
   "id": "2ec8aa9f-bfb3-4a6e-be20-1f053cdb5d4b",
   "metadata": {},
   "source": [
    "### Descripción del dataset Iris\n",
    "\n",
    "**Variables:**\n",
    "- `sepal_length`: Longitud del sépalo en cm.\n",
    "- `sepal_width`: Ancho del sépalo en cm.\n",
    "- `petal_length`: Longitud del pétalo en cm.\n",
    "- `petal_width`: Ancho del pétalo en cm.\n",
    "- `class`: Clase de la flor (setosa, versicolor, virginica).\n",
    "\n",
    "**Valores nulos:**\n",
    "No se encontraron valores nulos en el dataset.\n",
    "\n",
    "**Estadísticas:**\n",
    "\n",
    "|             | sepal length | sepal width | petal length | petal width |\n",
    "|-------------|--------------|-------------|--------------|-------------|\n",
    "| Número      | 150          | 150         | 150          | 150         |\n",
    "| Promedio    | 5.843333     | 3.054000    | 3.758667     | 1.198667    |\n",
    "| Desv.       | 0.828066     | 0.433594    | 1.764420     | 0.763161    |\n"
   ]
  },
  {
   "cell_type": "markdown",
   "id": "189bd05f-2caa-493f-afb2-f7fe6ac85043",
   "metadata": {},
   "source": [
    "### Descripción del Dataset\n",
    "\n",
    "**Columnas y su significado:**\n",
    "- `sepal_length`: Longitud del sépalo en cm.\n",
    "- `sepal_width`: Ancho del sépalo en cm.\n",
    "- `petal_length`: Longitud del pétalo en cm.\n",
    "- `petal_width`: Ancho del pétalo en cm.\n",
    "- `class`: Clase de la flor (setosa, versicolor, virginica).\n",
    "\n",
    "**Valores nulos:**\n",
    "No se encontraron valores nulos en el dataset.\n",
    "\n",
    "**Estadísticas de columnas numéricas:**\n",
    "\n",
    "|             | sepal length | sepal width | petal length | petal width |\n",
    "|-------------|--------------|-------------|--------------|-------------|\n",
    "| Número      | 150          | 150         | 150          | 150         |\n",
    "| Promedio    | 5.843333     | 3.054000    | 3.758667     | 1.198667    |\n",
    "| Desv.       | 0.828066     | 0.433594    | 1.764420     | 0.763161    |\n"
   ]
  },
  {
   "cell_type": "code",
   "execution_count": 38,
   "id": "ba942fef-d8f4-467d-a48e-4be25eefdfe5",
   "metadata": {},
   "outputs": [
    {
     "name": "stdout",
     "output_type": "stream",
     "text": [
      "<class 'pandas.core.frame.DataFrame'>\n",
      "RangeIndex: 150 entries, 0 to 149\n",
      "Data columns (total 5 columns):\n",
      " #   Column        Non-Null Count  Dtype  \n",
      "---  ------        --------------  -----  \n",
      " 0   sepal length  150 non-null    float64\n",
      " 1   sepal width   150 non-null    float64\n",
      " 2   petal length  150 non-null    float64\n",
      " 3   petal width   150 non-null    float64\n",
      " 4   class         150 non-null    object \n",
      "dtypes: float64(4), object(1)\n",
      "memory usage: 6.0+ KB\n",
      "None\n",
      "       sepal length  sepal width  petal length  petal width\n",
      "count    150.000000   150.000000    150.000000   150.000000\n",
      "mean       5.843333     3.054000      3.758667     1.198667\n",
      "std        0.828066     0.433594      1.764420     0.763161\n",
      "min        4.300000     2.000000      1.000000     0.100000\n",
      "25%        5.100000     2.800000      1.600000     0.300000\n",
      "50%        5.800000     3.000000      4.350000     1.300000\n",
      "75%        6.400000     3.300000      5.100000     1.800000\n",
      "max        7.900000     4.400000      6.900000     2.500000\n",
      "class\n",
      "Iris-setosa        50\n",
      "Iris-versicolor    50\n",
      "Iris-virginica     50\n",
      "Name: count, dtype: int64\n"
     ]
    }
   ],
   "source": [
    "# Descripción del dataset\n",
    "# Información sobre las columnas y valores nulos\n",
    "info = df.info()\n",
    "print(info)\n",
    "# Estadísticas de columnas numéricas\n",
    "estadisticas = df.describe()\n",
    "print(estadisticas)\n",
    "# Conteo de filas por clase de flor\n",
    "conteo = df['class'].value_counts()\n",
    "print(conteo)"
   ]
  }
 ],
 "metadata": {
  "kernelspec": {
   "display_name": "Python 3 (ipykernel)",
   "language": "python",
   "name": "python3"
  },
  "language_info": {
   "codemirror_mode": {
    "name": "ipython",
    "version": 3
   },
   "file_extension": ".py",
   "mimetype": "text/x-python",
   "name": "python",
   "nbconvert_exporter": "python",
   "pygments_lexer": "ipython3",
   "version": "3.11.7"
  }
 },
 "nbformat": 4,
 "nbformat_minor": 5
}
